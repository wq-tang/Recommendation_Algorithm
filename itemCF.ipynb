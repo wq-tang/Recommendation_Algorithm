{
 "cells": [
  {
   "cell_type": "code",
   "execution_count": 10,
   "metadata": {},
   "outputs": [],
   "source": [
    "import numpy as np\n",
    "import pandas as pd \n",
    "from functools import reduce\n",
    "from operator import itemgetter\n",
    "from userCF import UserCF\n",
    "class ItemCF(UserCF):\n",
    "\t\"\"\"docstring for ItemCF apply to dataset of moivelens\"\"\"\n",
    "\tdef __init__(self,filePath=None,k=5):\n",
    "\t\tsuper(ItemCF, self).__init__(filePath=filePath,k=k)\n",
    "\n",
    "\tdef itmeSimilarity(self):\n",
    "\t\tuser_item = self.train\n",
    "\t\titem_user = self._reverse_iu(self.train)\n",
    "\t\tw = {u:{} for u in item_user.keys()}\n",
    "\n",
    "\t\tlog_dict = {}\n",
    "\t\tfor user,item in user_item.items():\n",
    "\t\t\tif user in log_dict:\n",
    "\t\t\t\tlog_dict[user]+= 1/np.log(1+len(item))\n",
    "\t\t\telse:\n",
    "\t\t\t\tlog_dict[user] = 1/np.log(1+len(item))\n",
    "\n",
    "\t\tfor user,items in user_item.items():\n",
    "\t\t\tfor itemi in items:\n",
    "\t\t\t\tfor itemj in items:\n",
    "\t\t\t\t\tif itemi==itemj:\n",
    "\t\t\t\t\t\tcontinue\n",
    "\t\t\t\t\telse:\n",
    "\t\t\t\t\t\tif itemj in w[itemi]:\n",
    "\t\t\t\t\t\t\tw[itemi][itemj]+=log_dict[user]\n",
    "\t\t\t\t\t\telse:\n",
    "\t\t\t\t\t\t\tw[itemi][itemj]=log_dict[user]\n",
    "\n",
    "\t\tfor itemi in item_user.keys():\n",
    "\t\t\tfor itemj in w[itemi].keys():\n",
    "\t\t\t\tw[itemi][itemj] /= np.sqrt(len(item_user[itemi])*len(item_user[itemj]))\n",
    "\t\tfor itemi in item_user.keys(): #归一化\n",
    "\t\t\tmaxs = 0\n",
    "\t\t\tfor pi in w[itemi].values():\n",
    "\t\t\t\tmaxs = max(maxs,pi)\n",
    "\t\t\tfor itemj in w[itemi].keys():\n",
    "\t\t\t\tw[itemi][itemj] /= maxs\n",
    "\n",
    "\n",
    "\t\tfor itemu , dicts_item in w.items():\n",
    "\t\t\ttuples = sorted(dicts_item.items(),key = itemgetter(1),reverse=True)[:self.k]\n",
    "\t\t\tw[itemu] = {i:pi for i,pi in tuples}\n",
    "\t\tself.w = w\n",
    "\n",
    "\tdef recommend(self,commend_num=10):\n",
    "\t\trank={}\n",
    "\t\tfor user in self.test.keys():\n",
    "\t\t\tlocal_rank = {}\n",
    "\t\t\tfavorite_items = self.train[user]\n",
    "\n",
    "\t\t\tfor item in favorite_items:\n",
    "\t\t\t\tfor it,pi in self.w[item].items():\n",
    "\t\t\t\t\tif it in self.train[user]:\n",
    "\t\t\t\t\t\tcontinue\n",
    "\t\t\t\t\telse:\n",
    "\t\t\t\t\t\tif it in local_rank:\n",
    "\t\t\t\t\t\t\tlocal_rank[it] += pi\n",
    "\t\t\t\t\t\telse:\n",
    "\t\t\t\t\t\t\tlocal_rank[it] = pi \n",
    "\t\t\trank[user] = local_rank\n",
    "\t\tself.rank = rank\n",
    "\t\treturn self._pick(commend_num)\n",
    "\n",
    "\tdef _pick(self,commend_num):\n",
    "\t\tprediction = {}\n",
    "\t\tfor user,ranks in self.rank.items():\n",
    "\t\t\ttuples = sorted(ranks.items(),key = itemgetter(1),reverse = True)\n",
    "\t\t\tprediction[user]=[u for u,_ in tuples[:commend_num]]\n",
    "\t\tself.prediction = prediction\n",
    "\t\treturn self.prediction\n",
    "\n",
    "\tdef _reverse_iu(self,dicts):\n",
    "\t\treverse_out = {}\n",
    "\t\tfor before,after in dicts.items():\n",
    "\t\t\tfor af in after:\n",
    "\t\t\t\tif af not in reverse_out:\n",
    "\t\t\t\t\treverse_out[af] = [before]\n",
    "\t\t\t\telse:\n",
    "\t\t\t\t\treverse_out[af].append(before)\n",
    "\t\treturn reverse_out\n",
    "\n",
    "\n"
   ]
  },
  {
   "cell_type": "code",
   "execution_count": 11,
   "metadata": {},
   "outputs": [
    {
     "name": "stdout",
     "output_type": "stream",
     "text": [
      "successfully load the file\n",
      "suger:\n"
     ]
    }
   ],
   "source": [
    "filePath = r\"ml-1m\\moiveLens.csv\"\n",
    "itemCF = ItemCF(filePath=filePath,k=10)\n",
    "itemCF.split_data(0)\n",
    "itemCF.itmeSimilarity()\n",
    "prediction = itemCF.recommend()"
   ]
  },
  {
   "cell_type": "code",
   "execution_count": null,
   "metadata": {},
   "outputs": [],
   "source": []
  },
  {
   "cell_type": "code",
   "execution_count": 12,
   "metadata": {},
   "outputs": [
    {
     "data": {
      "text/plain": [
       "0.23768961493582264"
      ]
     },
     "execution_count": 12,
     "metadata": {},
     "output_type": "execute_result"
    }
   ],
   "source": [
    "itemCF.precision(prediction)"
   ]
  },
  {
   "cell_type": "code",
   "execution_count": 13,
   "metadata": {},
   "outputs": [
    {
     "data": {
      "text/plain": [
       "0.1140482779581847"
      ]
     },
     "execution_count": 13,
     "metadata": {},
     "output_type": "execute_result"
    }
   ],
   "source": [
    "itemCF.recall(prediction)"
   ]
  },
  {
   "cell_type": "code",
   "execution_count": 14,
   "metadata": {},
   "outputs": [
    {
     "data": {
      "text/plain": [
       "0.22303523035230352"
      ]
     },
     "execution_count": 14,
     "metadata": {},
     "output_type": "execute_result"
    }
   ],
   "source": [
    "itemCF.coverage(prediction)"
   ]
  },
  {
   "cell_type": "code",
   "execution_count": 15,
   "metadata": {},
   "outputs": [
    {
     "data": {
      "text/plain": [
       "7.24248077985019"
      ]
     },
     "execution_count": 15,
     "metadata": {},
     "output_type": "execute_result"
    }
   ],
   "source": [
    "itemCF.popularity(prediction)"
   ]
  },
  {
   "cell_type": "code",
   "execution_count": 1,
   "metadata": {},
   "outputs": [],
   "source": []
  },
  {
   "cell_type": "code",
   "execution_count": 3,
   "metadata": {},
   "outputs": [],
   "source": []
  },
  {
   "cell_type": "code",
   "execution_count": null,
   "metadata": {},
   "outputs": [],
   "source": []
  },
  {
   "cell_type": "code",
   "execution_count": null,
   "metadata": {},
   "outputs": [],
   "source": []
  },
  {
   "cell_type": "code",
   "execution_count": null,
   "metadata": {},
   "outputs": [],
   "source": []
  }
 ],
 "metadata": {
  "kernelspec": {
   "display_name": "Python 3",
   "language": "python",
   "name": "python3"
  },
  "language_info": {
   "codemirror_mode": {
    "name": "ipython",
    "version": 3
   },
   "file_extension": ".py",
   "mimetype": "text/x-python",
   "name": "python",
   "nbconvert_exporter": "python",
   "pygments_lexer": "ipython3",
   "version": "3.6.4"
  }
 },
 "nbformat": 4,
 "nbformat_minor": 2
}
