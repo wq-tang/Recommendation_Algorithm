{
 "cells": [
  {
   "cell_type": "code",
   "execution_count": 19,
   "metadata": {},
   "outputs": [],
   "source": [
    "import numpy as np\n",
    "import pandas as pd \n",
    "from functools import reduce\n",
    "from operator import itemgetter\n",
    "from userCF import UserCF\n",
    "#numpy.random.choice 很有用\n",
    "class LFM(UserCF):\n",
    "\t\"\"\"docstring for LFM\"\"\"\n",
    "\tdef __init__(self, filePath,iter_num,hid_cla,learning_rate,lambdas,commend_num=10):\n",
    "\t\tsuper().__init__(filePath=filePath,commend_num=commend_num,k=0)\n",
    "\t\tself.iter_num=iter_num\n",
    "\t\tself.hid_cla=hid_cla\n",
    "\t\tself.learning_rate=learning_rate\n",
    "\t\tself.lambdas=lambdas\n",
    "\t\n",
    "\tdef __RandomSelectNegativeSample(self):\n",
    "\t\t#计算正样本\n",
    "\t\tself.train_data  = {}\n",
    "\t\tfor user,items in self.train.items():\n",
    "\t\t\tuser_data = {}\n",
    "\t\t\tfor item in items:\n",
    "\t\t\t\tuser_data[item] = 1\n",
    "\t\t\tself.train_data[user] = user_data\n",
    "\t\t#计算流行度\n",
    "\t\tself.__itemPopularity()\n",
    "\t\tsums = sum(self.item_popularity.values())\n",
    "\t\tposibility = np.array(list(self.item_popularity.values()))/sums\n",
    "\n",
    "\t\t#采样负样本\n",
    "\t\tfor user,item in self.train.items():\n",
    "\t\t\tnum = len(item)\n",
    "\t\t\twhile num>0:\n",
    "\t\t\t\tsample = set(np.random.choice(list(self.item_popularity.keys()),num,True,posibility))\n",
    "\t\t\t\toriginal = set(self.train_data[user].keys())\n",
    "\t\t\t\tnew = sample - original\n",
    "\t\t\t\tif num-len(new)>=0:\n",
    "\t\t\t\t\tnum -= len(new)\n",
    "\t\t\t\t\tfor item in new:\n",
    "\t\t\t\t\t\tself.train_data[user][item] = 0\n",
    "\t\t\t\telse:\n",
    "\t\t\t\t\tfor i in range(num):\n",
    "\t\t\t\t\t\tself.train_data[user][new.pop()] = 0\n",
    "\t\t\t\t\tbreak\n",
    "\n",
    "\n",
    "\tdef __trainLFM(self):\n",
    "\t\tfor step in range(self.iter_num):\n",
    "\t\t\tfor user,items in self.train_data.items():\n",
    "\t\t\t\tfor item , rui in items.items():\n",
    "\t\t\t\t\teui = rui - self.__predict(user,item)\n",
    "\t\t\t\t\tfor k in range(self.hid_cla):  #可以考虑多批次迭代的方法\n",
    "\t\t\t\t\t\tself.P[user][k] += self.learning_rate*(eui*self.Q[k][item] - self.lambdas*self.P[user][k])\n",
    "\t\t\t\t\t\tself.Q[k][item] += self.learning_rate*(eui*self.P[user][k] - self.lambdas*self.Q[k][item])\n",
    "\t\t\tself.learning_rate *= 0.9\n",
    "\n",
    "\tdef __predict(self,user,item):\n",
    "\t\tpui = 0\n",
    "\t\tfor i in range(self.hid_cla):\n",
    "\t\t\tpui += self.P[user][i]*self.Q[i][item]\n",
    "\t\treturn pui\n",
    "\n",
    "\tdef __recomend(self):\n",
    "\t\trank = {}\n",
    "\t\tfor user in self.test.keys():\n",
    "\t\t\tlocal_rank={}\n",
    "\t\t\tfor i,pui in enumerate(self.Q[user]):\n",
    "\t\t\t\tfor k,pik in self.P[i].items():\n",
    "\t\t\t\t\tif k not in local_rank:\n",
    "\t\t\t\t\t\tlocal_rank[k] += pui*pik\n",
    "\t\t\t\t\telse:\n",
    "\t\t\t\t\t\tlocal_rank[k] = pui*pik\n",
    "\t\t\trank[user] = local_rank\n",
    "\t\tself.rank = rank\n",
    "\t\treturn self.pick()\n",
    "\n",
    "\n",
    "\tdef __initModel(self):\n",
    "\t\tP = {}\n",
    "\t\tQ = [{} for i in range(len(self.hid_cla))]\n",
    "\t\tfor user in self.train_data.keys():\n",
    "\t\t\tP[user] = np.random.random(len(self.hid_cla))\n",
    "\n",
    "\t\tfor items in self.train_data.values():\n",
    "\t\t\tfor item in items:\n",
    "\t\t\t\tif item not in Q[0]:\n",
    "\t\t\t\t\tfor q in Q:\n",
    "\t\t\t\t\t\tq[item] = np.random.random()\n",
    "\n",
    "\t\tself.P = P\n",
    "\t\tself.Q = Q\n",
    "\n",
    "\t\n",
    "\tdef __itemPopularity(self):\n",
    "\t\titem_popularity = {}\n",
    "\t\tfor user,items in self.train.items():\n",
    "\t\t\tfor item in items:\n",
    "\t\t\t\tif item in item_popularity:\n",
    "\t\t\t\t\titem_popularity[item]+=1\n",
    "\t\t\t\telse:\n",
    "\t\t\t\t\titem_popularity[item] = 1\n",
    "\t\tself.item_popularity = item_popularity\n",
    "\n",
    "\tdef calls(self,split_point = 0):\n",
    "\t\tself.split_data(split_point)\n",
    "\t\tself.__RandomSelectNegativeSample()\n",
    "\t\tself.__initModel()\n",
    "\n",
    "\tdef call(self):\n",
    "\t\tself.__trainLFM()\n",
    "\t\tprediction = self.__recommend()\n",
    "\t\tprint(\"precision:\",self.precision(prediction))\n",
    "\t\tprint(\"recall:\",self.recall(prediction))\n",
    "\t\tprint(\"coverage:\",self.coverage(prediction))\n",
    "\t\tprint(\"popularity:\",self.popularity(prediction))\n",
    "\t\treturn prediction\n",
    "\n",
    "import time"
   ]
  },
  {
   "cell_type": "code",
   "execution_count": 20,
   "metadata": {},
   "outputs": [
    {
     "name": "stdout",
     "output_type": "stream",
     "text": [
      "successfully load the file\n",
      "suger:\n"
     ]
    }
   ],
   "source": [
    "lfm = LFM(filePath=r\"ml-1m\\moiveLens.csv\",iter_num = 2,hid_cla=100,learning_rate=0.02,lambdas=0.01)\n"
   ]
  },
  {
   "cell_type": "code",
   "execution_count": 21,
   "metadata": {},
   "outputs": [
    {
     "ename": "KeyboardInterrupt",
     "evalue": "",
     "output_type": "error",
     "traceback": [
      "\u001b[1;31m---------------------------------------------------------------------------\u001b[0m",
      "\u001b[1;31mKeyboardInterrupt\u001b[0m                         Traceback (most recent call last)",
      "\u001b[1;32m<ipython-input-21-42bbef3493e5>\u001b[0m in \u001b[0;36m<module>\u001b[1;34m()\u001b[0m\n\u001b[1;32m----> 1\u001b[1;33m \u001b[0mlfm\u001b[0m\u001b[1;33m.\u001b[0m\u001b[0mcalls\u001b[0m\u001b[1;33m(\u001b[0m\u001b[0msplit_point\u001b[0m\u001b[1;33m=\u001b[0m\u001b[1;36m0\u001b[0m\u001b[1;33m)\u001b[0m\u001b[1;33m\u001b[0m\u001b[0m\n\u001b[0m",
      "\u001b[1;32m<ipython-input-19-e362787e1e18>\u001b[0m in \u001b[0;36mcalls\u001b[1;34m(self, split_point)\u001b[0m\n\u001b[0;32m    103\u001b[0m         \u001b[1;32mdef\u001b[0m \u001b[0mcalls\u001b[0m\u001b[1;33m(\u001b[0m\u001b[0mself\u001b[0m\u001b[1;33m,\u001b[0m\u001b[0msplit_point\u001b[0m \u001b[1;33m=\u001b[0m \u001b[1;36m0\u001b[0m\u001b[1;33m)\u001b[0m\u001b[1;33m:\u001b[0m\u001b[1;33m\u001b[0m\u001b[0m\n\u001b[0;32m    104\u001b[0m                 \u001b[0mself\u001b[0m\u001b[1;33m.\u001b[0m\u001b[0msplit_data\u001b[0m\u001b[1;33m(\u001b[0m\u001b[0msplit_point\u001b[0m\u001b[1;33m)\u001b[0m\u001b[1;33m\u001b[0m\u001b[0m\n\u001b[1;32m--> 105\u001b[1;33m                 \u001b[0mself\u001b[0m\u001b[1;33m.\u001b[0m\u001b[0m__RandomSelectNegativeSample\u001b[0m\u001b[1;33m(\u001b[0m\u001b[1;33m)\u001b[0m\u001b[1;33m\u001b[0m\u001b[0m\n\u001b[0m\u001b[0;32m    106\u001b[0m                 \u001b[0mself\u001b[0m\u001b[1;33m.\u001b[0m\u001b[0m__initModel\u001b[0m\u001b[1;33m(\u001b[0m\u001b[1;33m)\u001b[0m\u001b[1;33m\u001b[0m\u001b[0m\n\u001b[0;32m    107\u001b[0m \u001b[1;33m\u001b[0m\u001b[0m\n",
      "\u001b[1;32m<ipython-input-19-e362787e1e18>\u001b[0m in \u001b[0;36m__RandomSelectNegativeSample\u001b[1;34m(self)\u001b[0m\n\u001b[0;32m     31\u001b[0m                         \u001b[0mnum\u001b[0m \u001b[1;33m=\u001b[0m \u001b[0mlen\u001b[0m\u001b[1;33m(\u001b[0m\u001b[0mitem\u001b[0m\u001b[1;33m)\u001b[0m\u001b[1;33m\u001b[0m\u001b[0m\n\u001b[0;32m     32\u001b[0m                         \u001b[1;32mwhile\u001b[0m \u001b[0mnum\u001b[0m\u001b[1;33m>\u001b[0m\u001b[1;36m0\u001b[0m\u001b[1;33m:\u001b[0m\u001b[1;33m\u001b[0m\u001b[0m\n\u001b[1;32m---> 33\u001b[1;33m                                 \u001b[0msample\u001b[0m \u001b[1;33m=\u001b[0m \u001b[0mset\u001b[0m\u001b[1;33m(\u001b[0m\u001b[0mnp\u001b[0m\u001b[1;33m.\u001b[0m\u001b[0mrandom\u001b[0m\u001b[1;33m.\u001b[0m\u001b[0mchoice\u001b[0m\u001b[1;33m(\u001b[0m\u001b[0mlist\u001b[0m\u001b[1;33m(\u001b[0m\u001b[0mself\u001b[0m\u001b[1;33m.\u001b[0m\u001b[0mitem_popularity\u001b[0m\u001b[1;33m.\u001b[0m\u001b[0mkeys\u001b[0m\u001b[1;33m(\u001b[0m\u001b[1;33m)\u001b[0m\u001b[1;33m)\u001b[0m\u001b[1;33m,\u001b[0m\u001b[0mnum\u001b[0m\u001b[1;33m,\u001b[0m\u001b[1;32mTrue\u001b[0m\u001b[1;33m,\u001b[0m\u001b[0mposibility\u001b[0m\u001b[1;33m)\u001b[0m\u001b[1;33m)\u001b[0m\u001b[1;33m\u001b[0m\u001b[0m\n\u001b[0m\u001b[0;32m     34\u001b[0m                                 \u001b[0moriginal\u001b[0m \u001b[1;33m=\u001b[0m \u001b[0mset\u001b[0m\u001b[1;33m(\u001b[0m\u001b[0mself\u001b[0m\u001b[1;33m.\u001b[0m\u001b[0mtrain_data\u001b[0m\u001b[1;33m[\u001b[0m\u001b[0muser\u001b[0m\u001b[1;33m]\u001b[0m\u001b[1;33m.\u001b[0m\u001b[0mkeys\u001b[0m\u001b[1;33m(\u001b[0m\u001b[1;33m)\u001b[0m\u001b[1;33m)\u001b[0m\u001b[1;33m\u001b[0m\u001b[0m\n\u001b[0;32m     35\u001b[0m                                 \u001b[0mnew\u001b[0m \u001b[1;33m=\u001b[0m \u001b[0msample\u001b[0m \u001b[1;33m-\u001b[0m \u001b[0moriginal\u001b[0m\u001b[1;33m\u001b[0m\u001b[0m\n",
      "\u001b[1;31mKeyboardInterrupt\u001b[0m: "
     ]
    }
   ],
   "source": [
    "strat = time.time()\n",
    "lfm.calls(split_point=0)\n",
    "print(time.time()-strat)"
   ]
  },
  {
   "cell_type": "code",
   "execution_count": null,
   "metadata": {},
   "outputs": [],
   "source": [
    "prediction = lfm.call()"
   ]
  },
  {
   "cell_type": "code",
   "execution_count": null,
   "metadata": {},
   "outputs": [],
   "source": []
  }
 ],
 "metadata": {
  "kernelspec": {
   "display_name": "Python 3",
   "language": "python",
   "name": "python3"
  },
  "language_info": {
   "codemirror_mode": {
    "name": "ipython",
    "version": 3
   },
   "file_extension": ".py",
   "mimetype": "text/x-python",
   "name": "python",
   "nbconvert_exporter": "python",
   "pygments_lexer": "ipython3",
   "version": "3.6.4"
  }
 },
 "nbformat": 4,
 "nbformat_minor": 2
}
